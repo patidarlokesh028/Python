{
 "cells": [
  {
   "cell_type": "markdown",
   "metadata": {},
   "source": [
    "# Chocolates Data Set With Pandas"
   ]
  },
  {
   "cell_type": "code",
   "execution_count": 1,
   "metadata": {},
   "outputs": [],
   "source": [
    "import numpy as np"
   ]
  },
  {
   "cell_type": "code",
   "execution_count": 2,
   "metadata": {},
   "outputs": [],
   "source": [
    "import pandas as pd"
   ]
  },
  {
   "cell_type": "code",
   "execution_count": 3,
   "metadata": {},
   "outputs": [
    {
     "data": {
      "text/html": [
       "<div>\n",
       "<style scoped>\n",
       "    .dataframe tbody tr th:only-of-type {\n",
       "        vertical-align: middle;\n",
       "    }\n",
       "\n",
       "    .dataframe tbody tr th {\n",
       "        vertical-align: top;\n",
       "    }\n",
       "\n",
       "    .dataframe thead th {\n",
       "        text-align: right;\n",
       "    }\n",
       "</style>\n",
       "<table border=\"1\" class=\"dataframe\">\n",
       "  <thead>\n",
       "    <tr style=\"text-align: right;\">\n",
       "      <th></th>\n",
       "      <th>Sales Person</th>\n",
       "      <th>Geography</th>\n",
       "      <th>Product</th>\n",
       "      <th>Date</th>\n",
       "      <th>Amount</th>\n",
       "      <th>Boxes</th>\n",
       "      <th>Unnamed: 6</th>\n",
       "    </tr>\n",
       "  </thead>\n",
       "  <tbody>\n",
       "    <tr>\n",
       "      <th>0</th>\n",
       "      <td>Dennison Crosswaite</td>\n",
       "      <td>UK</td>\n",
       "      <td>Almond Choco</td>\n",
       "      <td>01/01/2021</td>\n",
       "      <td>$2,037</td>\n",
       "      <td>422</td>\n",
       "      <td>NaN</td>\n",
       "    </tr>\n",
       "    <tr>\n",
       "      <th>1</th>\n",
       "      <td>Kelci Walkden</td>\n",
       "      <td>India</td>\n",
       "      <td>Almond Choco</td>\n",
       "      <td>01/01/2021</td>\n",
       "      <td>$6,160</td>\n",
       "      <td>126</td>\n",
       "      <td>NaN</td>\n",
       "    </tr>\n",
       "    <tr>\n",
       "      <th>2</th>\n",
       "      <td>Gigi Bohling</td>\n",
       "      <td>Canada</td>\n",
       "      <td>Caramel Stuffed Bars</td>\n",
       "      <td>01/01/2021</td>\n",
       "      <td>$1,442</td>\n",
       "      <td>200</td>\n",
       "      <td>NaN</td>\n",
       "    </tr>\n",
       "    <tr>\n",
       "      <th>3</th>\n",
       "      <td>Madelene Upcott</td>\n",
       "      <td>India</td>\n",
       "      <td>Eclairs</td>\n",
       "      <td>01/01/2021</td>\n",
       "      <td>$6,979</td>\n",
       "      <td>252</td>\n",
       "      <td>NaN</td>\n",
       "    </tr>\n",
       "    <tr>\n",
       "      <th>4</th>\n",
       "      <td>Oby Sorrel</td>\n",
       "      <td>USA</td>\n",
       "      <td>Manuka Honey Choco</td>\n",
       "      <td>01/01/2021</td>\n",
       "      <td>$966</td>\n",
       "      <td>71</td>\n",
       "      <td>NaN</td>\n",
       "    </tr>\n",
       "    <tr>\n",
       "      <th>...</th>\n",
       "      <td>...</td>\n",
       "      <td>...</td>\n",
       "      <td>...</td>\n",
       "      <td>...</td>\n",
       "      <td>...</td>\n",
       "      <td>...</td>\n",
       "      <td>...</td>\n",
       "    </tr>\n",
       "    <tr>\n",
       "      <th>9444</th>\n",
       "      <td>Dotty Strutley</td>\n",
       "      <td>Canada</td>\n",
       "      <td>Drinking Coco</td>\n",
       "      <td>14/03/2022</td>\n",
       "      <td>$3,325</td>\n",
       "      <td>167</td>\n",
       "      <td>NaN</td>\n",
       "    </tr>\n",
       "    <tr>\n",
       "      <th>9445</th>\n",
       "      <td>Roddy Speechley</td>\n",
       "      <td>Australia</td>\n",
       "      <td>70% Dark Bites</td>\n",
       "      <td>09/03/2022</td>\n",
       "      <td>$4,900</td>\n",
       "      <td>205</td>\n",
       "      <td>NaN</td>\n",
       "    </tr>\n",
       "    <tr>\n",
       "      <th>9446</th>\n",
       "      <td>Curtice Advani</td>\n",
       "      <td>USA</td>\n",
       "      <td>85% Dark Bars</td>\n",
       "      <td>04/03/2022</td>\n",
       "      <td>$8,911</td>\n",
       "      <td>388</td>\n",
       "      <td>NaN</td>\n",
       "    </tr>\n",
       "    <tr>\n",
       "      <th>9447</th>\n",
       "      <td>Roddy Speechley</td>\n",
       "      <td>UK</td>\n",
       "      <td>70% Dark Bites</td>\n",
       "      <td>24/03/2022</td>\n",
       "      <td>$1,316</td>\n",
       "      <td>51</td>\n",
       "      <td>NaN</td>\n",
       "    </tr>\n",
       "    <tr>\n",
       "      <th>9448</th>\n",
       "      <td>Kaine Padly</td>\n",
       "      <td>Canada</td>\n",
       "      <td>Fruit &amp; Nut Bars</td>\n",
       "      <td>01/03/2022</td>\n",
       "      <td>$4,340</td>\n",
       "      <td>155</td>\n",
       "      <td>NaN</td>\n",
       "    </tr>\n",
       "  </tbody>\n",
       "</table>\n",
       "<p>9449 rows × 7 columns</p>\n",
       "</div>"
      ],
      "text/plain": [
       "             Sales Person  Geography               Product        Date  \\\n",
       "0     Dennison Crosswaite         UK          Almond Choco  01/01/2021   \n",
       "1           Kelci Walkden      India          Almond Choco  01/01/2021   \n",
       "2            Gigi Bohling     Canada  Caramel Stuffed Bars  01/01/2021   \n",
       "3         Madelene Upcott      India               Eclairs  01/01/2021   \n",
       "4              Oby Sorrel        USA    Manuka Honey Choco  01/01/2021   \n",
       "...                   ...        ...                   ...         ...   \n",
       "9444       Dotty Strutley     Canada         Drinking Coco  14/03/2022   \n",
       "9445      Roddy Speechley  Australia        70% Dark Bites  09/03/2022   \n",
       "9446       Curtice Advani        USA         85% Dark Bars  04/03/2022   \n",
       "9447      Roddy Speechley         UK        70% Dark Bites  24/03/2022   \n",
       "9448          Kaine Padly     Canada      Fruit & Nut Bars  01/03/2022   \n",
       "\n",
       "       Amount  Boxes  Unnamed: 6  \n",
       "0     $2,037     422         NaN  \n",
       "1     $6,160     126         NaN  \n",
       "2     $1,442     200         NaN  \n",
       "3     $6,979     252         NaN  \n",
       "4       $966      71         NaN  \n",
       "...       ...    ...         ...  \n",
       "9444  $3,325     167         NaN  \n",
       "9445  $4,900     205         NaN  \n",
       "9446  $8,911     388         NaN  \n",
       "9447  $1,316      51         NaN  \n",
       "9448  $4,340     155         NaN  \n",
       "\n",
       "[9449 rows x 7 columns]"
      ]
     },
     "execution_count": 3,
     "metadata": {},
     "output_type": "execute_result"
    }
   ],
   "source": [
    "df = pd.read_csv('./Data/Chocolates.csv')\n",
    "df"
   ]
  },
  {
   "cell_type": "code",
   "execution_count": 4,
   "metadata": {},
   "outputs": [
    {
     "data": {
      "text/html": [
       "<div>\n",
       "<style scoped>\n",
       "    .dataframe tbody tr th:only-of-type {\n",
       "        vertical-align: middle;\n",
       "    }\n",
       "\n",
       "    .dataframe tbody tr th {\n",
       "        vertical-align: top;\n",
       "    }\n",
       "\n",
       "    .dataframe thead th {\n",
       "        text-align: right;\n",
       "    }\n",
       "</style>\n",
       "<table border=\"1\" class=\"dataframe\">\n",
       "  <thead>\n",
       "    <tr style=\"text-align: right;\">\n",
       "      <th></th>\n",
       "      <th>Sales Person</th>\n",
       "      <th>Geography</th>\n",
       "      <th>Product</th>\n",
       "      <th>Date</th>\n",
       "      <th>Amount</th>\n",
       "      <th>Boxes</th>\n",
       "      <th>Unnamed: 6</th>\n",
       "    </tr>\n",
       "  </thead>\n",
       "  <tbody>\n",
       "    <tr>\n",
       "      <th>0</th>\n",
       "      <td>Dennison Crosswaite</td>\n",
       "      <td>UK</td>\n",
       "      <td>Almond Choco</td>\n",
       "      <td>01/01/2021</td>\n",
       "      <td>$2,037</td>\n",
       "      <td>422</td>\n",
       "      <td>NaN</td>\n",
       "    </tr>\n",
       "    <tr>\n",
       "      <th>1</th>\n",
       "      <td>Kelci Walkden</td>\n",
       "      <td>India</td>\n",
       "      <td>Almond Choco</td>\n",
       "      <td>01/01/2021</td>\n",
       "      <td>$6,160</td>\n",
       "      <td>126</td>\n",
       "      <td>NaN</td>\n",
       "    </tr>\n",
       "    <tr>\n",
       "      <th>2</th>\n",
       "      <td>Gigi Bohling</td>\n",
       "      <td>Canada</td>\n",
       "      <td>Caramel Stuffed Bars</td>\n",
       "      <td>01/01/2021</td>\n",
       "      <td>$1,442</td>\n",
       "      <td>200</td>\n",
       "      <td>NaN</td>\n",
       "    </tr>\n",
       "    <tr>\n",
       "      <th>3</th>\n",
       "      <td>Madelene Upcott</td>\n",
       "      <td>India</td>\n",
       "      <td>Eclairs</td>\n",
       "      <td>01/01/2021</td>\n",
       "      <td>$6,979</td>\n",
       "      <td>252</td>\n",
       "      <td>NaN</td>\n",
       "    </tr>\n",
       "    <tr>\n",
       "      <th>4</th>\n",
       "      <td>Oby Sorrel</td>\n",
       "      <td>USA</td>\n",
       "      <td>Manuka Honey Choco</td>\n",
       "      <td>01/01/2021</td>\n",
       "      <td>$966</td>\n",
       "      <td>71</td>\n",
       "      <td>NaN</td>\n",
       "    </tr>\n",
       "  </tbody>\n",
       "</table>\n",
       "</div>"
      ],
      "text/plain": [
       "          Sales Person Geography               Product        Date   Amount  \\\n",
       "0  Dennison Crosswaite        UK          Almond Choco  01/01/2021  $2,037    \n",
       "1        Kelci Walkden     India          Almond Choco  01/01/2021  $6,160    \n",
       "2         Gigi Bohling    Canada  Caramel Stuffed Bars  01/01/2021  $1,442    \n",
       "3      Madelene Upcott     India               Eclairs  01/01/2021  $6,979    \n",
       "4           Oby Sorrel       USA    Manuka Honey Choco  01/01/2021    $966    \n",
       "\n",
       "   Boxes  Unnamed: 6  \n",
       "0    422         NaN  \n",
       "1    126         NaN  \n",
       "2    200         NaN  \n",
       "3    252         NaN  \n",
       "4     71         NaN  "
      ]
     },
     "execution_count": 4,
     "metadata": {},
     "output_type": "execute_result"
    }
   ],
   "source": [
    "df.head()"
   ]
  },
  {
   "cell_type": "code",
   "execution_count": 5,
   "metadata": {},
   "outputs": [
    {
     "name": "stdout",
     "output_type": "stream",
     "text": [
      "<class 'pandas.core.frame.DataFrame'>\n",
      "RangeIndex: 9449 entries, 0 to 9448\n",
      "Data columns (total 7 columns):\n",
      " #   Column        Non-Null Count  Dtype  \n",
      "---  ------        --------------  -----  \n",
      " 0   Sales Person  9449 non-null   object \n",
      " 1   Geography     9449 non-null   object \n",
      " 2   Product       9449 non-null   object \n",
      " 3   Date          9449 non-null   object \n",
      " 4   Amount        9449 non-null   object \n",
      " 5   Boxes         9449 non-null   int64  \n",
      " 6   Unnamed: 6    0 non-null      float64\n",
      "dtypes: float64(1), int64(1), object(5)\n",
      "memory usage: 516.9+ KB\n"
     ]
    }
   ],
   "source": [
    "df.info()"
   ]
  },
  {
   "cell_type": "code",
   "execution_count": 6,
   "metadata": {},
   "outputs": [
    {
     "data": {
      "text/plain": [
       "Sales Person    False\n",
       "Geography       False\n",
       "Product         False\n",
       "Date            False\n",
       "Amount          False\n",
       "Boxes           False\n",
       "Unnamed: 6       True\n",
       "dtype: bool"
      ]
     },
     "execution_count": 6,
     "metadata": {},
     "output_type": "execute_result"
    }
   ],
   "source": [
    "df.isna().any()"
   ]
  },
  {
   "cell_type": "code",
   "execution_count": 7,
   "metadata": {},
   "outputs": [
    {
     "data": {
      "text/plain": [
       "0       False\n",
       "1       False\n",
       "2       False\n",
       "3       False\n",
       "4       False\n",
       "        ...  \n",
       "9444     True\n",
       "9445     True\n",
       "9446     True\n",
       "9447     True\n",
       "9448     True\n",
       "Name: Sales Person, Length: 9449, dtype: bool"
      ]
     },
     "execution_count": 7,
     "metadata": {},
     "output_type": "execute_result"
    }
   ],
   "source": [
    "df[\"Sales Person\"].duplicated()"
   ]
  },
  {
   "cell_type": "code",
   "execution_count": 8,
   "metadata": {},
   "outputs": [
    {
     "data": {
      "text/plain": [
       "Sales Person\n",
       "Gunar Cockshoot        453\n",
       "Andria Kimpton         432\n",
       "Kelci Walkden          427\n",
       "Beverie Moffet         427\n",
       "Rafaelita Blaksland    427\n",
       "Wilone O'Kielt         425\n",
       "Brien Boise            425\n",
       "Jan Morforth           424\n",
       "Dotty Strutley         424\n",
       "Ches Bonnell           423\n",
       "Husein Augar           422\n",
       "Madelene Upcott        421\n",
       "Dennison Crosswaite    420\n",
       "Gigi Bohling           420\n",
       "Karlen McCaffrey       417\n",
       "Barr Faughny           416\n",
       "Oby Sorrel             415\n",
       "Marney O'Breen         415\n",
       "Curtice Advani         411\n",
       "Kaine Padly            393\n",
       "Van Tuxwell            208\n",
       "Roddy Speechley        207\n",
       "Camilla Castle         206\n",
       "Jehu Rudeforth         200\n",
       "Mallorie Waber         191\n",
       "Name: count, dtype: int64"
      ]
     },
     "execution_count": 8,
     "metadata": {},
     "output_type": "execute_result"
    }
   ],
   "source": [
    "df[\"Sales Person\"].value_counts()"
   ]
  },
  {
   "cell_type": "code",
   "execution_count": 9,
   "metadata": {},
   "outputs": [
    {
     "data": {
      "text/plain": [
       "array(['Dennison Crosswaite', 'Kelci Walkden', 'Gigi Bohling',\n",
       "       'Madelene Upcott', 'Oby Sorrel', 'Brien Boise', 'Jan Morforth',\n",
       "       \"Marney O'Breen\", 'Andria Kimpton', 'Barr Faughny', 'Husein Augar',\n",
       "       'Ches Bonnell', 'Dotty Strutley', 'Curtice Advani',\n",
       "       'Rafaelita Blaksland', 'Kaine Padly', 'Beverie Moffet',\n",
       "       'Karlen McCaffrey', \"Wilone O'Kielt\", 'Gunar Cockshoot',\n",
       "       'Van Tuxwell', 'Camilla Castle', 'Mallorie Waber',\n",
       "       'Jehu Rudeforth', 'Roddy Speechley'], dtype=object)"
      ]
     },
     "execution_count": 9,
     "metadata": {},
     "output_type": "execute_result"
    }
   ],
   "source": [
    "df[\"Sales Person\"].unique()"
   ]
  },
  {
   "cell_type": "code",
   "execution_count": 10,
   "metadata": {},
   "outputs": [
    {
     "data": {
      "text/plain": [
       "'Total Sales person: 25'"
      ]
     },
     "execution_count": 10,
     "metadata": {},
     "output_type": "execute_result"
    }
   ],
   "source": [
    "f\"Total Sales person: {len(df[\"Sales Person\"].unique())}\""
   ]
  },
  {
   "cell_type": "code",
   "execution_count": 11,
   "metadata": {},
   "outputs": [
    {
     "data": {
      "text/plain": [
       "0        UK\n",
       "1     India\n",
       "2    Canada\n",
       "3     India\n",
       "4       USA\n",
       "Name: Geography, dtype: object"
      ]
     },
     "execution_count": 11,
     "metadata": {},
     "output_type": "execute_result"
    }
   ],
   "source": [
    "df[\"Geography\"].head()"
   ]
  },
  {
   "cell_type": "code",
   "execution_count": 12,
   "metadata": {},
   "outputs": [
    {
     "data": {
      "text/plain": [
       "'Total Geographyical Location: 6'"
      ]
     },
     "execution_count": 12,
     "metadata": {},
     "output_type": "execute_result"
    }
   ],
   "source": [
    "f\"Total Geographyical Location: {len(df[\"Geography\"].unique())}\""
   ]
  },
  {
   "cell_type": "code",
   "execution_count": 13,
   "metadata": {},
   "outputs": [
    {
     "data": {
      "text/html": [
       "<div>\n",
       "<style scoped>\n",
       "    .dataframe tbody tr th:only-of-type {\n",
       "        vertical-align: middle;\n",
       "    }\n",
       "\n",
       "    .dataframe tbody tr th {\n",
       "        vertical-align: top;\n",
       "    }\n",
       "\n",
       "    .dataframe thead th {\n",
       "        text-align: right;\n",
       "    }\n",
       "</style>\n",
       "<table border=\"1\" class=\"dataframe\">\n",
       "  <thead>\n",
       "    <tr style=\"text-align: right;\">\n",
       "      <th></th>\n",
       "      <th>Boxes</th>\n",
       "      <th>Unnamed: 6</th>\n",
       "    </tr>\n",
       "  </thead>\n",
       "  <tbody>\n",
       "    <tr>\n",
       "      <th>count</th>\n",
       "      <td>9449.000000</td>\n",
       "      <td>0.0</td>\n",
       "    </tr>\n",
       "    <tr>\n",
       "      <th>mean</th>\n",
       "      <td>325.570537</td>\n",
       "      <td>NaN</td>\n",
       "    </tr>\n",
       "    <tr>\n",
       "      <th>std</th>\n",
       "      <td>317.250602</td>\n",
       "      <td>NaN</td>\n",
       "    </tr>\n",
       "    <tr>\n",
       "      <th>min</th>\n",
       "      <td>0.000000</td>\n",
       "      <td>NaN</td>\n",
       "    </tr>\n",
       "    <tr>\n",
       "      <th>25%</th>\n",
       "      <td>112.000000</td>\n",
       "      <td>NaN</td>\n",
       "    </tr>\n",
       "    <tr>\n",
       "      <th>50%</th>\n",
       "      <td>240.000000</td>\n",
       "      <td>NaN</td>\n",
       "    </tr>\n",
       "    <tr>\n",
       "      <th>75%</th>\n",
       "      <td>435.000000</td>\n",
       "      <td>NaN</td>\n",
       "    </tr>\n",
       "    <tr>\n",
       "      <th>max</th>\n",
       "      <td>3360.000000</td>\n",
       "      <td>NaN</td>\n",
       "    </tr>\n",
       "  </tbody>\n",
       "</table>\n",
       "</div>"
      ],
      "text/plain": [
       "             Boxes  Unnamed: 6\n",
       "count  9449.000000         0.0\n",
       "mean    325.570537         NaN\n",
       "std     317.250602         NaN\n",
       "min       0.000000         NaN\n",
       "25%     112.000000         NaN\n",
       "50%     240.000000         NaN\n",
       "75%     435.000000         NaN\n",
       "max    3360.000000         NaN"
      ]
     },
     "execution_count": 13,
     "metadata": {},
     "output_type": "execute_result"
    }
   ],
   "source": [
    "df.describe()"
   ]
  },
  {
   "cell_type": "code",
   "execution_count": 14,
   "metadata": {},
   "outputs": [
    {
     "data": {
      "text/plain": [
       "0       2,037 \n",
       "1       6,160 \n",
       "2       1,442 \n",
       "3       6,979 \n",
       "4         966 \n",
       "         ...  \n",
       "9444    3,325 \n",
       "9445    4,900 \n",
       "9446    8,911 \n",
       "9447    1,316 \n",
       "9448    4,340 \n",
       "Name: Amount, Length: 9449, dtype: object"
      ]
     },
     "execution_count": 14,
     "metadata": {},
     "output_type": "execute_result"
    }
   ],
   "source": [
    "df[\"Amount\"].str.replace(\"$\",\"\")"
   ]
  },
  {
   "cell_type": "code",
   "execution_count": 15,
   "metadata": {},
   "outputs": [
    {
     "data": {
      "text/plain": [
       "0   2021-01-01\n",
       "1   2021-01-01\n",
       "2   2021-01-01\n",
       "3   2021-01-01\n",
       "4   2021-01-01\n",
       "Name: Date, dtype: datetime64[ns]"
      ]
     },
     "execution_count": 15,
     "metadata": {},
     "output_type": "execute_result"
    }
   ],
   "source": [
    "df[\"Date\"] = pd.to_datetime(df[\"Date\"], format = '%d/%m/%Y')\n",
    "df[\"Date\"].head()"
   ]
  },
  {
   "cell_type": "code",
   "execution_count": 16,
   "metadata": {},
   "outputs": [
    {
     "data": {
      "text/plain": [
       "Date\n",
       "2022-01-17    79\n",
       "2021-11-15    78\n",
       "2022-02-14    73\n",
       "2022-02-23    71\n",
       "2021-10-07    71\n",
       "              ..\n",
       "2021-05-24     5\n",
       "2022-03-31     5\n",
       "2021-05-31     4\n",
       "2021-06-30     2\n",
       "2021-06-25     2\n",
       "Name: count, Length: 325, dtype: int64"
      ]
     },
     "execution_count": 16,
     "metadata": {},
     "output_type": "execute_result"
    }
   ],
   "source": [
    "df[\"Date\"].value_counts()"
   ]
  },
  {
   "cell_type": "code",
   "execution_count": 17,
   "metadata": {},
   "outputs": [
    {
     "data": {
      "text/plain": [
       "dtype('<M8[ns]')"
      ]
     },
     "execution_count": 17,
     "metadata": {},
     "output_type": "execute_result"
    }
   ],
   "source": [
    "df[\"Date\"].dtype"
   ]
  },
  {
   "cell_type": "code",
   "execution_count": 18,
   "metadata": {},
   "outputs": [
    {
     "data": {
      "text/plain": [
       "0            Almond Choco\n",
       "1            Almond Choco\n",
       "2    Caramel Stuffed Bars\n",
       "3                 Eclairs\n",
       "4      Manuka Honey Choco\n",
       "Name: Product, dtype: object"
      ]
     },
     "execution_count": 18,
     "metadata": {},
     "output_type": "execute_result"
    }
   ],
   "source": [
    "df[\"Product\"].head()"
   ]
  },
  {
   "cell_type": "markdown",
   "metadata": {},
   "source": []
  },
  {
   "cell_type": "code",
   "execution_count": 19,
   "metadata": {},
   "outputs": [
    {
     "data": {
      "text/plain": [
       "0               Almond Choco\n",
       "1               Almond Choco\n",
       "2       Caramel Stuffed Bars\n",
       "3                    Eclairs\n",
       "4         Manuka Honey Choco\n",
       "                ...         \n",
       "9444           Drinking Coco\n",
       "9445          70% Dark Bites\n",
       "9446           85% Dark Bars\n",
       "9447          70% Dark Bites\n",
       "9448        Fruit & Nut Bars\n",
       "Name: Product, Length: 9449, dtype: object"
      ]
     },
     "execution_count": 19,
     "metadata": {},
     "output_type": "execute_result"
    }
   ],
   "source": [
    "df[\"Product\"]"
   ]
  },
  {
   "cell_type": "code",
   "execution_count": null,
   "metadata": {},
   "outputs": [],
   "source": [
    " "
   ]
  },
  {
   "cell_type": "code",
   "execution_count": null,
   "metadata": {},
   "outputs": [],
   "source": []
  },
  {
   "cell_type": "code",
   "execution_count": null,
   "metadata": {},
   "outputs": [],
   "source": []
  },
  {
   "cell_type": "code",
   "execution_count": null,
   "metadata": {},
   "outputs": [],
   "source": []
  },
  {
   "cell_type": "code",
   "execution_count": null,
   "metadata": {},
   "outputs": [],
   "source": []
  },
  {
   "cell_type": "code",
   "execution_count": null,
   "metadata": {},
   "outputs": [],
   "source": []
  },
  {
   "cell_type": "code",
   "execution_count": null,
   "metadata": {},
   "outputs": [],
   "source": []
  }
 ],
 "metadata": {
  "kernelspec": {
   "display_name": ".venv",
   "language": "python",
   "name": "python3"
  },
  "language_info": {
   "codemirror_mode": {
    "name": "ipython",
    "version": 3
   },
   "file_extension": ".py",
   "mimetype": "text/x-python",
   "name": "python",
   "nbconvert_exporter": "python",
   "pygments_lexer": "ipython3",
   "version": "3.12.9"
  }
 },
 "nbformat": 4,
 "nbformat_minor": 2
}
